{
 "cells": [
  {
   "cell_type": "code",
   "execution_count": 3,
   "id": "b5f46448",
   "metadata": {},
   "outputs": [
    {
     "data": {
      "text/plain": [
       "0          Mid Jurassic \n",
       "1          Mid Jurassic \n",
       "2          Mid Jurassic \n",
       "3          Mid Jurassic \n",
       "4          Mid Jurassic \n",
       "             ...        \n",
       "302    Early Cretaceous \n",
       "303    Early Cretaceous \n",
       "304    Early Cretaceous \n",
       "305    Early Cretaceous \n",
       "306    Early Cretaceous \n",
       "Name: Period, Length: 307, dtype: object"
      ]
     },
     "execution_count": 3,
     "metadata": {},
     "output_type": "execute_result"
    }
   ],
   "source": [
    "import json\n",
    "import plotly\n",
    "import dash\n",
    "from dash.dependencies import Input, Output, State\n",
    "from dash.exceptions import PreventUpdate\n",
    "# import dash_snapshots\n",
    "import dash_design_kit as ddk\n",
    "#import dashboard_engine as dbe\n",
    "#from dashboard_engine.api.elements import BaseElement, Scatter, Indicator\n",
    "#from dashboard_engine.api.query import Query\n",
    "#from theme import theme\n",
    "import os\n",
    "import pandas as pd\n",
    "\n",
    "app = dash.Dash(__name__)\n",
    "server = app.server\n",
    "\n",
    "df = pd.read_csv(\n",
    "        'https://raw.githubusercontent.com/mcgovernplotly/DinoDashboard/main/DinoData.csv')\n",
    "df[\"Period\"]\n"
   ]
  },
  {
   "cell_type": "code",
   "execution_count": null,
   "id": "c0867dbb",
   "metadata": {},
   "outputs": [],
   "source": []
  }
 ],
 "metadata": {
  "kernelspec": {
   "display_name": "Python 3 (ipykernel)",
   "language": "python",
   "name": "python3"
  },
  "language_info": {
   "codemirror_mode": {
    "name": "ipython",
    "version": 3
   },
   "file_extension": ".py",
   "mimetype": "text/x-python",
   "name": "python",
   "nbconvert_exporter": "python",
   "pygments_lexer": "ipython3",
   "version": "3.9.13"
  }
 },
 "nbformat": 4,
 "nbformat_minor": 5
}
