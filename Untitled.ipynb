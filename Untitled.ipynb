{
 "cells": [
  {
   "cell_type": "code",
   "execution_count": 19,
   "id": "996bee44",
   "metadata": {},
   "outputs": [],
   "source": [
    "import dash\n",
    "import pandas as pd\n",
    "\n",
    "df = pd.read_csv(\n",
    "        'https://raw.githubusercontent.com/mcgovernplotly/DinoDashboard/main/DinoData.csv')\n",
    "\n",
    "Period_list = list(df[\"Period\"].unique())\n",
    "# Period_list.sort()\n",
    "df2 = df['Name'].sum()\n"
   ]
  },
  {
   "cell_type": "code",
   "execution_count": 20,
   "id": "e721cd72",
   "metadata": {},
   "outputs": [
    {
     "data": {
      "text/plain": [
       "'SegisaurusPodokesaurusEmausaurusYuanmousaurusMonolophosaurusBellusaurusRhoetosaurusAmygdalodonCetiosauriscusCetiosaurusShunosaurusHuayangosaurusGasosaurusMegalosaurusDatousaurusProceratosaurusPoekilopleuronLapparentosaurusYandusaurusOmeisaurusSinraptorEustreptospondylusPatagosaurusYinlongNqwebasaurusBrachytrachelopanHerrerasaurusEoraptorMelanorosaurusStaurikosaurusChindesaurusThecodontosaurusCoelophysisSaltopusProcompsognathusGuaibasaurusRiojasaurusMussaurusColoradisaurusPlateosaurusLiliensternusLycorhinusChirostenotesDubreuillosaurusAgilisaurusPiatnitzkysaurusYangchuanosaurusMetriacanthosaurusGuanlongYingshanosaurusChungkingosaurusChinshakiangosaurusTuojiangosaurusAllosaurusKentrosaurusStegosaurusDiplodocusCoelurusCamptosaurusBarosaurusMamenchisaurusTorvosaurusDryosaurusBrachiosaurusJuravenatorEuropasaurusJanenschiaElaphrosaurusDacentrurusApatosaurusSaurophaganaxOthnieliaMarshosaurusHesperosaurusHaplocanthosaurusGargoyleosaurusEuhelopusGiraffatitanCeratosaurusChaoyangsaurusOrnitholestesCamarasaurusDicraeosaurusArchaeopteryxCompsognathusDeltadromeusProtohadrosOryctodromeusEolambiaParalititanMapusaurusBuitreraptorTalarurusGarudimimusErlikosaurusTsagantegiaGraciliceratopsAchillobatorCarcharodontosaurusAegyptosaurusSegnosaurusSpinosaurusArchaeornithomimusUrbacodonRugopsZuniceratopsNothronychusUnenlagiaJaxartosaurusAralosaurusAlectrosaurusArgentinosaurusBrachylophosaurusAlvarezsaurusNipponosaurusTaniusSonidosaurusQuaesitosaurusGryposaurusGasparinisauraMicroceratusSaurornithoidesBagaceratopsOviraptorTherizinosaurusLophorhothonBambiraptorTsintaosaurusNanshiungosaurusMicropachycephalosaurusBactrosaurusMasiakasaurusMajungasaurusAucasaurusBorogoviaAnserimimusTelmatosaurusDryptosaurusAntarctosaurusNoasaurusStruthiosaurusAchelousaurusConchoraptorUdanoceratopsPinacosaurusKhaanGoyocephaleCitipatiMononykusAvimimusMaiasauraAvaceratopsAlbertaceratopsGorgosaurusPrenocephaleSaichaniaMaxakalisaurusPanoplosaurusKritosaurusHadrosaurusShantungosaurusProsaurolophusStruthiomimusParksosaurusPachyrhinosaurusLambeosaurusEdmontoniaDaspletosaurusChasmosaurusCentrosaurusAlbertosaurusStegocerasPentaceratopsParasaurolophusDromaeosaurusCorythosaurusRhabdodonStyracosaurusEuoplocephalusGilmoreosaurusThescelosaurusEdmontosaurusPachycephalosaurusShuvuuiaTylocephaleTarchiaDromiceiomimusAnchiceratopsVelociraptorTarbosaurusSaurolophusProtoceratopsGallimimusAbelisaurusAnkylosaurusTroodonOrnithomimusOrodromeusEiniosaurusRincheniaOpisthocoelicaudiaNomingiaNemegtosaurusHomalocephaleHeyuanniaArrhinoceratopsNeuquenosaurusAlioramusAmpelosaurusMagyarosaurusIsisaurusIndosuchusSecernosaurusDeinocheirusTorosaurusAlamosaurusSaltasaurusHypacrosaurusCarnotaurusZalmoxesTyrannosaurusTriceratopsNedoceratopsLeptoceratopsLesothosaurusMassospondylusScelidosaurusScutellosaurusVulcanodonYunnanosaurusJingshanosaurusKotasaurusHeterodontosaurusLophostropheusSarcosaurusLufengosaurusAardonyxYimenosaurusAmmosaurusDilophosaurusAnchisaurusBarapasaurusCryolophosaurusSupersaurusHylaeosaurusBecklespinaxGastoniaCedarpeltaValdosaurusIguanodonJobariaAmargasaurusAragosaurusAfrovenatorEquijubusNeovenatorEotyrannusStenopelixPelicanimimusSinovenatorLiaoceratopsJinzhousaurusConfuciusornisBeipiaosaurusShanagMicroraptorCaudipteryxPolacanthusPelorosaurusHypsilophodonBaryonyxSinocalliopteryxSinosauropteryxSinornithosaurusProtarchaeopteryxShamosaurusHarpymimusFukuisaurusFukuiraptorProbactrosaurusGobisaurusArchaeoceratopsNigersaurusLigabuesaurusAtlascopcosaurusSauropeltaSilvisaurusSuchomimusLurdusaurusMalawisaurusMinmiZephyrosaurusTenontosaurusDeinonychusPsittacosaurusLeaellynasauraAcrocanthosaurusOuranosaurusRebbachisaurusIrritatorAustrosaurusChubutisaurusGiganotosaurusUtahraptorErketuNodosaurusMuttaburrasaurus'"
      ]
     },
     "execution_count": 20,
     "metadata": {},
     "output_type": "execute_result"
    }
   ],
   "source": [
    "df2"
   ]
  },
  {
   "cell_type": "code",
   "execution_count": null,
   "id": "f353928c",
   "metadata": {},
   "outputs": [],
   "source": []
  }
 ],
 "metadata": {
  "kernelspec": {
   "display_name": "Python 3 (ipykernel)",
   "language": "python",
   "name": "python3"
  },
  "language_info": {
   "codemirror_mode": {
    "name": "ipython",
    "version": 3
   },
   "file_extension": ".py",
   "mimetype": "text/x-python",
   "name": "python",
   "nbconvert_exporter": "python",
   "pygments_lexer": "ipython3",
   "version": "3.9.13"
  }
 },
 "nbformat": 4,
 "nbformat_minor": 5
}
